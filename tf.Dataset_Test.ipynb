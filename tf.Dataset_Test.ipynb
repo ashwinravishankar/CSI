{
 "cells": [
  {
   "cell_type": "code",
   "execution_count": 1,
   "metadata": {},
   "outputs": [],
   "source": [
    "import tensorflow as tf\n",
    "import numpy as np\n",
    "import pandas as pd\n",
    "import os\n",
    "# tf.enable_eager_execution()"
   ]
  },
  {
   "cell_type": "code",
   "execution_count": null,
   "metadata": {},
   "outputs": [],
   "source": [
    "# filename = '/Users/ashwinravishankar/Work/WineQuality/Dataset/winequality.csv'\n",
    "# rec = [tf.float32] * 12\n",
    "# dataset = tf.data.experimental.CsvDataset(filename, rec, header=True)"
   ]
  },
  {
   "cell_type": "code",
   "execution_count": null,
   "metadata": {},
   "outputs": [],
   "source": [
    "# # type(dataset)\n",
    "# print(dataset.output_shapes)"
   ]
  },
  {
   "cell_type": "code",
   "execution_count": null,
   "metadata": {},
   "outputs": [],
   "source": [
    "# iterator = dataset.make_one_shot_iterator()\n",
    "# next_elem = iterator.get_next()\n",
    "# pr = tf.print(next_elem)\n",
    "# with tf.Session() as sess:\n",
    "#     try:\n",
    "#         while True:\n",
    "#             print(sess.run(next_elem))\n",
    "#     except tf.errors.OutOfRangeError:\n",
    "#         sess.close()"
   ]
  },
  {
   "cell_type": "code",
   "execution_count": 2,
   "metadata": {},
   "outputs": [],
   "source": [
    "filename = '/Users/ashwinravishankar/Work/WineQuality/Dataset/winequality.csv'\n",
    "df = pd.read_csv(filename)"
   ]
  },
  {
   "cell_type": "code",
   "execution_count": 3,
   "metadata": {},
   "outputs": [],
   "source": [
    "train = df.sample(frac=0.8, random_state=0)\n",
    "test = df.drop(train.index)\n",
    "\n",
    "t_stats = train.describe()\n",
    "t_stats.pop(\"quality\")\n",
    "t_stats = t_stats.transpose()\n",
    "\n",
    "train_target = train.pop(\"quality\")\n",
    "test_target = test.pop(\"quality\")"
   ]
  },
  {
   "cell_type": "code",
   "execution_count": 4,
   "metadata": {},
   "outputs": [],
   "source": [
    "def normalize(x):\n",
    "    return (x - t_stats['mean']) / t_stats['std']\n",
    "\n",
    "normal_train = normalize(train)\n",
    "normal_test = normalize(test)"
   ]
  },
  {
   "cell_type": "code",
   "execution_count": 5,
   "metadata": {},
   "outputs": [],
   "source": [
    "train = normal_train.values\n",
    "test = normal_test.values\n",
    "t_stats = t_stats.values\n",
    "train_target = train_target.values\n",
    "test_target = test_target.values"
   ]
  },
  {
   "cell_type": "code",
   "execution_count": 6,
   "metadata": {},
   "outputs": [],
   "source": [
    "save_dir = '/Users/ashwinravishankar/Work/WineQuality/Dataset/NPY'\n",
    "np.save(os.path.join(save_dir,'train.npy'), train)\n",
    "np.save(os.path.join(save_dir,'test.npy'), test)\n",
    "np.save(os.path.join(save_dir,'t_stats.npy'), t_stats)\n",
    "np.save(os.path.join(save_dir,'train_target.npy'), train_target, allow_pickle=False)#.astype(float))\n",
    "np.save(os.path.join(save_dir,'test_target.npy'), test_target, allow_pickle=False)#.astype(float))"
   ]
  },
  {
   "cell_type": "code",
   "execution_count": 7,
   "metadata": {},
   "outputs": [
    {
     "data": {
      "text/plain": [
       "array([[ 1.42750302, -0.31459057,  0.80469404, ..., -0.92635615,\n",
       "         0.65539016,  0.33544573],\n",
       "       [-0.1204939 ,  1.66678782, -1.38002029, ...,  0.30802345,\n",
       "        -0.78038675, -0.77138454],\n",
       "       [ 0.4528383 , -1.33358517,  0.29662094, ..., -0.34165002,\n",
       "         1.15479082,  1.16556843],\n",
       "       ...,\n",
       "       [-0.57915965,  1.75170404, -1.22759836, ...,  0.5029255 ,\n",
       "        -1.15493724, -0.77138454],\n",
       "       [-0.63649287, -0.20136895, -0.46548871, ..., -0.14674798,\n",
       "        -1.09251216, -1.14032797],\n",
       "       [ 1.19817015, -0.484423  ,  0.75388673, ...,  0.43795815,\n",
       "         1.27964099, -0.49467698]])"
      ]
     },
     "execution_count": 7,
     "metadata": {},
     "output_type": "execute_result"
    }
   ],
   "source": [
    "train"
   ]
  },
  {
   "cell_type": "code",
   "execution_count": 8,
   "metadata": {
    "scrolled": true
   },
   "outputs": [
    {
     "data": {
      "text/plain": [
       "array([[-0.46449321, -0.14475814,  0.44904287, ...,  0.24305611,\n",
       "         0.90509049,  0.05873816],\n",
       "       [ 0.10883898, -0.20136895, -0.82113988, ..., -0.92635615,\n",
       "        -0.78038675, -0.95585625],\n",
       "       [-0.80849253, -0.71086625, -0.66871795, ...,  0.76279489,\n",
       "        -0.15613592, -0.67914869],\n",
       "       ...,\n",
       "       [-0.46449321, -0.03153652,  0.65227211, ..., -0.34165002,\n",
       "        -0.09371084,  1.25780428],\n",
       "       [-0.92315896, -1.16375274,  0.85550135, ..., -0.14674798,\n",
       "         0.90509049,  1.07333257],\n",
       "       [-1.20982506,  0.42134997, -0.97356181, ...,  0.89272958,\n",
       "        -0.46826133,  0.05873816]])"
      ]
     },
     "execution_count": 8,
     "metadata": {},
     "output_type": "execute_result"
    }
   ],
   "source": [
    "y = np.load(os.path.join(save_dir,'test.npy'))\n",
    "y"
   ]
  },
  {
   "cell_type": "code",
   "execution_count": null,
   "metadata": {},
   "outputs": [],
   "source": [
    "normal_test"
   ]
  },
  {
   "cell_type": "code",
   "execution_count": null,
   "metadata": {},
   "outputs": [],
   "source": []
  }
 ],
 "metadata": {
  "kernelspec": {
   "display_name": "Python 3",
   "language": "python",
   "name": "python3"
  },
  "language_info": {
   "codemirror_mode": {
    "name": "ipython",
    "version": 3
   },
   "file_extension": ".py",
   "mimetype": "text/x-python",
   "name": "python",
   "nbconvert_exporter": "python",
   "pygments_lexer": "ipython3",
   "version": "3.7.3"
  }
 },
 "nbformat": 4,
 "nbformat_minor": 2
}
